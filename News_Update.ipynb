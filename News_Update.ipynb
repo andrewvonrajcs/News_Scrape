{
 "cells": [
  {
   "cell_type": "code",
   "execution_count": null,
   "metadata": {},
   "outputs": [],
   "source": [
    "%pylab inline"
   ]
  },
  {
   "cell_type": "code",
   "execution_count": 3,
   "metadata": {},
   "outputs": [],
   "source": [
    "#Imports\n",
    "import requests\n",
    "from bs4 import BeautifulSoup\n",
    "from gensim.summarization import summarize"
   ]
  },
  {
   "cell_type": "code",
   "execution_count": 7,
   "metadata": {},
   "outputs": [],
   "source": [
    "#Retreve text from URL\n",
    "url = 'https://wgntv.com/weather/first-snowstorm-of-season-possible-monday-in-chicago-area-skilling-says/'\n",
    "page = requests.get(url).text"
   ]
  },
  {
   "cell_type": "code",
   "execution_count": 8,
   "metadata": {},
   "outputs": [],
   "source": [
    "#turn page to beautiful Soup object \n",
    "soup = BeautifulSoup(page)"
   ]
  },
  {
   "cell_type": "code",
   "execution_count": 10,
   "metadata": {},
   "outputs": [
    {
     "name": "stdout",
     "output_type": "stream",
     "text": [
      "\n",
      "\t\tFirst snowstorm of season possible Monday in Chicago area, Skilling says\t\n"
     ]
    }
   ],
   "source": [
    "#headline get command\n",
    "headline = soup.find('h1').get_text()\n",
    "print(headline)"
   ]
  },
  {
   "cell_type": "code",
   "execution_count": 11,
   "metadata": {},
   "outputs": [
    {
     "name": "stdout",
     "output_type": "stream",
     "text": [
      "['WGN-TV', 'by: Tom Skilling', 'CHICAGO — Three snow systems are expected to impact Chicago over the coming week.', 'Most notably, the Monday system which has potential of generating the season’s first snowstorm in the area.', 'The latest National Weather Service GFS model has arrived and if the system it brings into the Midwest comes anywhere close to verifying, we have formidable winter weather producer—even potential snowstorm producer headed for the Midwest early next week.', 'It has come in line with its European counterpart.', 'Two significant models with such similar projections are taken very seriously in the meteorological profession. However, three to four days out, just where the heavy snow band will lay out must be refined, and it will be with greater precision as new data arrives.', 'But, prospects that we have a winter system to take seriously continue to grow.', 'Models show a weather system which will have plenty of moisture available to it and which rides into the Midwest on the nose of a jet stream speed max, an atmospheric feature which encourages air to ascend and cool to saturation on a large scale–producing clouds and precipitation in the process.', 'A word of caution. We’re still three days away from this system’s arrival in the Midwest. A level of uncertainty is built into any forecast of the details associated with such a weather system at this distance in time—i.e. the placement and intensity of its heaviest snowfall, the potential for a wintry mix over sections of the region and, in its warm sector, the severe weather potential.', 'The NWS modeling and forecast team at the National Weather Service’s Weather Prediction Center (WPC) on the University of Maryland campus–the facility which issues guidance products to all NWS field offices and to meteorologists across the country—puts out an experimental guidance product driven by a “blend” of model forecasts—which identifies the region most likely to see measurable winter precipitation, be it snow, ice or a wintry mix—and we here in northern Illinois and northern Indiana are among the areas in it. So this remains a system to keep a close eye.', 'Before the main event takes place, a lead disturbance will bring a swath of lighter snow across the Chicago area Saturday night into Sunday with modest accumulations possible. And a third weather system with snow-producing potential could be in the offing later Wednesday into Wedesday night and possibly early Thursday next week.', 'Please note what follows are an array of forecast graphics. Included are panels from both the National Weather Service GFS model (the latest 6am Monday run) and from the overnight midnight intermediate run of the European Centre’s model which is only run out to 90 hours. Also, there are several snow forecast panels with potential accumulations for the first light snow system. Saturday night into Sunday morning. Accumulation numbers are generated for the Monday system by models–but experience shows numbers at that distance of time aren’t yet firm.', 'As a forecaster, you like to get any incoming storm within range of our shorter term, higher resolution forecast models and generate snowfall numbers based on a blend  of models–not a single model.', '— Tom Skilling, WGN-TV chief meteorologist', 'Submit', '', 'Dear Tom,Why does a snowstorm in winter last so much longer than a thunderstorm in the summer?', 'Martin Kelly, Oak Brook', 'Dear Martin,Snowstorms and thunderstorms are entirely different kinds of precipitation-producing weather systems. Assuming they both move at approximately the same speed (30 mph) and in the same direction (southwest to northeast) ... assumptions that are likely but not necessarily true ... snowstorms are often huge weather systems whereas thunderstorms, by comparison, are small. U.S. snowstorms often extend several hundred miles from end to end and, in addition, are often accompanied by rain in their south or southeast portions. Individual thunderstorms rarely extend more than 50 miles. Consequently, they pass very quickly compared to snowstorms.', 'For the latest weather updates, visit\\xa0wgntv.com/weather.', 'Click to Enlarge', '']\n"
     ]
    }
   ],
   "source": [
    "#get text from paragraph tags \n",
    "par_tags = soup.find_all('p')\n",
    "#getting text from each par and striping the white\n",
    "par_tags_text = [tag.get_text().strip() for tag in par_tags]\n",
    "print(par_tags_text)"
   ]
  },
  {
   "cell_type": "code",
   "execution_count": 13,
   "metadata": {},
   "outputs": [
    {
     "name": "stdout",
     "output_type": "stream",
     "text": [
      "['CHICAGO — Three snow systems are expected to impact Chicago over the coming week.', 'Most notably, the Monday system which has potential of generating the season’s first snowstorm in the area.', 'The latest National Weather Service GFS model has arrived and if the system it brings into the Midwest comes anywhere close to verifying, we have formidable winter weather producer—even potential snowstorm producer headed for the Midwest early next week.', 'It has come in line with its European counterpart.', 'Two significant models with such similar projections are taken very seriously in the meteorological profession. However, three to four days out, just where the heavy snow band will lay out must be refined, and it will be with greater precision as new data arrives.', 'But, prospects that we have a winter system to take seriously continue to grow.', 'Models show a weather system which will have plenty of moisture available to it and which rides into the Midwest on the nose of a jet stream speed max, an atmospheric feature which encourages air to ascend and cool to saturation on a large scale–producing clouds and precipitation in the process.', 'A word of caution. We’re still three days away from this system’s arrival in the Midwest. A level of uncertainty is built into any forecast of the details associated with such a weather system at this distance in time—i.e. the placement and intensity of its heaviest snowfall, the potential for a wintry mix over sections of the region and, in its warm sector, the severe weather potential.', 'The NWS modeling and forecast team at the National Weather Service’s Weather Prediction Center (WPC) on the University of Maryland campus–the facility which issues guidance products to all NWS field offices and to meteorologists across the country—puts out an experimental guidance product driven by a “blend” of model forecasts—which identifies the region most likely to see measurable winter precipitation, be it snow, ice or a wintry mix—and we here in northern Illinois and northern Indiana are among the areas in it. So this remains a system to keep a close eye.', 'Before the main event takes place, a lead disturbance will bring a swath of lighter snow across the Chicago area Saturday night into Sunday with modest accumulations possible. And a third weather system with snow-producing potential could be in the offing later Wednesday into Wedesday night and possibly early Thursday next week.', 'Please note what follows are an array of forecast graphics. Included are panels from both the National Weather Service GFS model (the latest 6am Monday run) and from the overnight midnight intermediate run of the European Centre’s model which is only run out to 90 hours. Also, there are several snow forecast panels with potential accumulations for the first light snow system. Saturday night into Sunday morning. Accumulation numbers are generated for the Monday system by models–but experience shows numbers at that distance of time aren’t yet firm.', 'As a forecaster, you like to get any incoming storm within range of our shorter term, higher resolution forecast models and generate snowfall numbers based on a blend  of models–not a single model.', 'Dear Martin,Snowstorms and thunderstorms are entirely different kinds of precipitation-producing weather systems. Assuming they both move at approximately the same speed (30 mph) and in the same direction (southwest to northeast) ... assumptions that are likely but not necessarily true ... snowstorms are often huge weather systems whereas thunderstorms, by comparison, are small. U.S. snowstorms often extend several hundred miles from end to end and, in addition, are often accompanied by rain in their south or southeast portions. Individual thunderstorms rarely extend more than 50 miles. Consequently, they pass very quickly compared to snowstorms.', 'For the latest weather updates, visit\\xa0wgntv.com/weather.']\n"
     ]
    }
   ],
   "source": [
    "# taking out any new lines and anything that dosent contain a period\n",
    "sentence_list = [sentence for sentence in par_tags_text if not '\\n' in sentence] \n",
    "sentence_list = [sentence for sentence in sentence_list if '.' in sentence] \n",
    "print (sentence_list)"
   ]
  },
  {
   "cell_type": "raw",
   "metadata": {},
   "source": []
  },
  {
   "cell_type": "code",
   "execution_count": 15,
   "metadata": {},
   "outputs": [
    {
     "name": "stdout",
     "output_type": "stream",
     "text": [
      "CHICAGO — Three snow systems are expected to impact Chicago over the coming week. Most notably, the Monday system which has potential of generating the season’s first snowstorm in the area. The latest National Weather Service GFS model has arrived and if the system it brings into the Midwest comes anywhere close to verifying, we have formidable winter weather producer—even potential snowstorm producer headed for the Midwest early next week. It has come in line with its European counterpart. Two significant models with such similar projections are taken very seriously in the meteorological profession. However, three to four days out, just where the heavy snow band will lay out must be refined, and it will be with greater precision as new data arrives. But, prospects that we have a winter system to take seriously continue to grow. Models show a weather system which will have plenty of moisture available to it and which rides into the Midwest on the nose of a jet stream speed max, an atmospheric feature which encourages air to ascend and cool to saturation on a large scale–producing clouds and precipitation in the process. A word of caution. We’re still three days away from this system’s arrival in the Midwest. A level of uncertainty is built into any forecast of the details associated with such a weather system at this distance in time—i.e. the placement and intensity of its heaviest snowfall, the potential for a wintry mix over sections of the region and, in its warm sector, the severe weather potential. The NWS modeling and forecast team at the National Weather Service’s Weather Prediction Center (WPC) on the University of Maryland campus–the facility which issues guidance products to all NWS field offices and to meteorologists across the country—puts out an experimental guidance product driven by a “blend” of model forecasts—which identifies the region most likely to see measurable winter precipitation, be it snow, ice or a wintry mix—and we here in northern Illinois and northern Indiana are among the areas in it. So this remains a system to keep a close eye. Before the main event takes place, a lead disturbance will bring a swath of lighter snow across the Chicago area Saturday night into Sunday with modest accumulations possible. And a third weather system with snow-producing potential could be in the offing later Wednesday into Wedesday night and possibly early Thursday next week. Please note what follows are an array of forecast graphics. Included are panels from both the National Weather Service GFS model (the latest 6am Monday run) and from the overnight midnight intermediate run of the European Centre’s model which is only run out to 90 hours. Also, there are several snow forecast panels with potential accumulations for the first light snow system. Saturday night into Sunday morning. Accumulation numbers are generated for the Monday system by models–but experience shows numbers at that distance of time aren’t yet firm. As a forecaster, you like to get any incoming storm within range of our shorter term, higher resolution forecast models and generate snowfall numbers based on a blend  of models–not a single model. Dear Martin,Snowstorms and thunderstorms are entirely different kinds of precipitation-producing weather systems. Assuming they both move at approximately the same speed (30 mph) and in the same direction (southwest to northeast) ... assumptions that are likely but not necessarily true ... snowstorms are often huge weather systems whereas thunderstorms, by comparison, are small. U.S. snowstorms often extend several hundred miles from end to end and, in addition, are often accompanied by rain in their south or southeast portions. Individual thunderstorms rarely extend more than 50 miles. Consequently, they pass very quickly compared to snowstorms. For the latest weather updates, visit wgntv.com/weather.\n"
     ]
    }
   ],
   "source": [
    "#combine list items to string\n",
    "article = ' '.join(sentence_list)\n",
    "print(article)"
   ]
  },
  {
   "cell_type": "code",
   "execution_count": 16,
   "metadata": {},
   "outputs": [],
   "source": [
    "#summarize function from gensim\n",
    "summary = summarize(article, ratio=0.3)"
   ]
  },
  {
   "cell_type": "code",
   "execution_count": 21,
   "metadata": {},
   "outputs": [
    {
     "name": "stdout",
     "output_type": "stream",
     "text": [
      "Length of original article: 3890\n",
      "Length of summary: 1632\n",
      "\n",
      "Headline: \n",
      "\t\tFirst snowstorm of season possible Monday in Chicago area, Skilling says\t\n",
      "\n",
      "Article summary: \n",
      " Most notably, the Monday system which has potential of generating the season’s first snowstorm in the area.\n",
      "The latest National Weather Service GFS model has arrived and if the system it brings into the Midwest comes anywhere close to verifying, we have formidable winter weather producer—even potential snowstorm producer headed for the Midwest early next week.\n",
      "The NWS modeling and forecast team at the National Weather Service’s Weather Prediction Center (WPC) on the University of Maryland campus–the facility which issues guidance products to all NWS field offices and to meteorologists across the country—puts out an experimental guidance product driven by a “blend” of model forecasts—which identifies the region most likely to see measurable winter precipitation, be it snow, ice or a wintry mix—and we here in northern Illinois and northern Indiana are among the areas in it.\n",
      "Before the main event takes place, a lead disturbance will bring a swath of lighter snow across the Chicago area Saturday night into Sunday with modest accumulations possible.\n",
      "And a third weather system with snow-producing potential could be in the offing later Wednesday into Wedesday night and possibly early Thursday next week.\n",
      "Included are panels from both the National Weather Service GFS model (the latest 6am Monday run) and from the overnight midnight intermediate run of the European Centre’s model which is only run out to 90 hours.\n",
      "Dear Martin,Snowstorms and thunderstorms are entirely different kinds of precipitation-producing weather systems.\n",
      "snowstorms are often huge weather systems whereas thunderstorms, by comparison, are small.\n"
     ]
    }
   ],
   "source": [
    "#summarized article\n",
    "print(f'Length of original article: {len(article)}')\n",
    "print(f'Length of summary: {len(summary)}\\n')\n",
    "print(f'Headline: {headline}\\n')\n",
    "print(f'Article summary: \\n {summary}')"
   ]
  }
 ],
 "metadata": {
  "kernelspec": {
   "display_name": "practice_venv",
   "language": "python",
   "name": "practice_venv"
  },
  "language_info": {
   "codemirror_mode": {
    "name": "ipython",
    "version": 3
   },
   "file_extension": ".py",
   "mimetype": "text/x-python",
   "name": "python",
   "nbconvert_exporter": "python",
   "pygments_lexer": "ipython3",
   "version": "3.7.9"
  }
 },
 "nbformat": 4,
 "nbformat_minor": 4
}
