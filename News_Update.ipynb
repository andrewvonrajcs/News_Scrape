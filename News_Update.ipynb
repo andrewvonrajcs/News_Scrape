{
 "cells": [
  {
   "cell_type": "code",
   "execution_count": 34,
   "metadata": {},
   "outputs": [
    {
     "name": "stdout",
     "output_type": "stream",
     "text": [
      "Populating the interactive namespace from numpy and matplotlib\n"
     ]
    }
   ],
   "source": [
    "%pylab inline"
   ]
  },
  {
   "cell_type": "code",
   "execution_count": 35,
   "metadata": {},
   "outputs": [],
   "source": [
    "#Libraries\n",
    "import requests\n",
    "from bs4 import BeautifulSoup\n",
    "from gensim.summarization import summarize"
   ]
  },
  {
   "cell_type": "code",
   "execution_count": 36,
   "metadata": {
    "scrolled": true
   },
   "outputs": [
    {
     "name": "stdout",
     "output_type": "stream",
     "text": [
      "[{\"title\":\"Philadelphia ends contract with vaccination provider over for-profit status change\",\"link\":\"https://www.nbcnews.com/health/health-news/philadelphia-ends-contract-vaccination-provider-over-profit-status-change-n1255695\"},{\"title\":\"'Paramedic of the Year' in Florida arrested for role in theft of Covid-19 vaccines\",\"link\":\"https://www.nbcnews.com/news/us-news/paramedic-year-florida-arrested-role-theft-covid-19-vaccines-n1255701\"}]\n",
      "\n",
      "https://www.nbcnews.com/health/health-news/philadelphia-ends-contract-vaccination-provider-over-profit-status-change-n1255695\n",
      "https://www.nbcnews.com/news/us-news/paramedic-year-florida-arrested-role-theft-covid-19-vaccines-n1255701\n"
     ]
    }
   ],
   "source": [
    "#grabs 2 current articles from nbcnews \n",
    "site = requests.get('https://marquee.nbcnews.com/data/bento/latest.json')\n",
    "print(site.text)\n",
    "parse1 = site.json()[0]\n",
    "parse2 = site.json()[1]\n",
    "link1 = parse1[\"link\"]\n",
    "link2 = parse2[\"link\"]\n",
    "print(link1)\n",
    "print(link2)"
   ]
  },
  {
   "cell_type": "code",
   "execution_count": 37,
   "metadata": {},
   "outputs": [],
   "source": [
    "#Retreveing text from links\n",
    "page1 = requests.get(link1).text\n",
    "page2 = requests.get(link2).text"
   ]
  },
  {
   "cell_type": "code",
   "execution_count": 38,
   "metadata": {},
   "outputs": [],
   "source": [
    "#turning page to beautiful Soup object \n",
    "soup1 = BeautifulSoup(page1)\n",
    "soup2 = BeautifulSoup(page2)"
   ]
  },
  {
   "cell_type": "code",
   "execution_count": 39,
   "metadata": {},
   "outputs": [
    {
     "name": "stdout",
     "output_type": "stream",
     "text": [
      "Philadelphia ends contract with vaccination provider over for-profit status change\n",
      "'Paramedic of the Year' in Florida arrested for role in theft of Covid-19 vaccines\n"
     ]
    }
   ],
   "source": [
    "#get headline command\n",
    "headline1 = soup1.find('h1').get_text()\n",
    "headline2 = soup2.find('h1').get_text()\n",
    "print(headline1)\n",
    "print(headline2)"
   ]
  },
  {
   "cell_type": "code",
   "execution_count": 40,
   "metadata": {},
   "outputs": [
    {
     "name": "stdout",
     "output_type": "stream",
     "text": [
      "['', 'Sections', 'TV', 'Featured', 'More from NBC', 'Follow NBC News', 'Philadelphia has terminated its partnership with Philly Fighting COVID, a group that ran the city’s biggest Covid-19 vaccination site, after discovering it had changed its corporate status from nonprofit to for-profit, abruptly stopping offering testing, and updated the privacy policy on its vaccination sign up website in a way that could allow for the sale of user data.', 'Three weeks ago, the city’s Department of Public Health announced a “unique public/private partnership” with Philly Fighting COVID, according to NBC Philadelphia, and urged residents to pre-register for vaccination on the group’s website.', 'The city and the group together ran a mass vaccination site at the Pennsylvania Convention Center, and the relationship was publicized by national media, including NBC News.', 'On Monday night, however, the department said in a statement that it had decided to end the relationship after learning that PFC had changed “its corporate status” to for-profit and had updated its data policy \"in a way that could allow the organization to sell data collected through PFC\\'s pre-registration site.\"', 'James Garrow, the department’s director of communications, told NBC News on Tuesday that the group had actually changed its status to for-profit in December but only told the city it was considering such a change in passing during a January conversation.', 'Garrow said the group also had a contract with the city for Covid-19 testing through Jan. 31, but had unexpectedly suspended testing.', 'PFC updated its data policy on its website Monday. The new policy says it will not sell users’ personal data. It does say, however, that it “may share Your information with Our business partners to offer You certain products, services or promotions.”', \"PFC founder Andrei Doroshin, a 22-year-old Drexel University graduate student, did not immediately respond to a request for comment from NBC News or NBC Philadelphia, but reportedly told Philly Magazine on Monday that the privacy policy that appeared on his organization's vaccination page was the policy for the company that runs the database, not for PFC. Doroshin also said he had personally informed the health department of change in corporate status, which was done to make it easier to fundraise and operate clinics.\", 'PFC administered 6,757 vaccine doses for the city, according to the department of public health.', 'The city will now schedule new vaccination clinics so people who received their first doses from PFC at the convention center can receive their second doses elsewhere.', 'Brenda Breslauer is a producer with the NBC News Investigative Unit.', '©\\xa02021 NBC UNIVERSAL']\n",
      "['', 'Sections', 'TV', 'Featured', 'More from NBC', 'Follow NBC News', 'A Florida man who was named 2020 paramedic of the year admitted to investigators that he played a role in the alleged theft of coronavirus vaccine doses, the Polk County Sheriff said on Tuesday.', \"Joshua Colon, 21, was arrested on Monday and faces forgery, fraud and misconduct charges after he admitted to forging paperwork to cover up what he said was a supervisor's theft of three pre-filled syringes of the Moderna Covid-19 vaccine.\", 'In a press conference, Polk County Sheriff Grady Judd said that authorities noticed there were \"discrepancies\" and \"total confusion\" on three different vaccine forms filled out by Colon, who had been given three full vials of the vaccine on Jan. 6 to administer to Polk County first responders.', 'Authorities contacted several of the names of vaccine recipients on the forms and found that they were former firefighters who said they had never received any doses.', 'Judd said that the 2020 Paramedic of the Year later \"confessed\" and began to cooperate with investigators, admitting to using false names for \"fraudulent\" and \"wrong\" reasons.', 'Colon said he did so at the behest of his supervisor, Polk County Fire Rescue Captain Anthony Damiano.', 'Colon told investigators that Damiano joked about wanting a vaccine for his mother and later threatened him when Colon would not give him the vaccine.', 'Damiano ordered Colon to take a break, after which three pre-filled syringes disappeared from a sealed bag in a refrigerator.', '\"Colon advised he did not question his supervisor in reference to the missing vaccines, however, he immediately became suspicious,\" a statement from the Polk County Sheriff\\'s Office said. \"Colon did not report this incident to anyone within Polk County Fire Rescue.\"', 'However, when asked to produce paperwork, Colon then forged the documents and said he had given doses to people who never received them.', '\"The investigation is ongoing, including what role the supervisor has in the theft of the vaccines and the creation of fraudulent and forged medical records,\" the Polk County Sheriff said in the statement.', 'Reached by telephone Tuesday afternoon, a spokesperson for the Polk County Sheriff said that charges against Damiano are \"imminent\" and that he is at large.', '\"The bottom line is Joshua tried to cover for the captain, Joshua set up the circumstance for the vaccines to have been stolen. Had Joshua simply gone to his boss right then he\\'d have been the hero, but instead he started falsifying paperwork making up people who didn\\'t exist to cover it up,\" Judd said at the Tuesday press conference.', 'Colon resigned on Friday and was arrested on Monday.', 'In a statement, David Carmichael, an attorney for Colon, said he faced a \"very difficult situation\" after his supervisor allegedly demanded he provide the vaccines.', '\"Mr. Colon deeply regrets his weakness in failing to alert the Chain of Command to the theft of the vaccine, accepts responsibility for his error in covering up the theft, and in an effort to protect the reputation of his agency, has resigned his position,\" Carmichael said.', 'Tim Fitzsimons is a reporter for NBC News.', '©\\xa02021 NBC UNIVERSAL']\n"
     ]
    }
   ],
   "source": [
    "#get text from paragraph tags \n",
    "par_tags1 = soup1.find_all('p')\n",
    "par_tags2 = soup2.find_all('p')\n",
    "#getting text from each paragraph and striping the white\n",
    "par_tags_text1 = [tag1.get_text().strip() for tag1 in par_tags1]\n",
    "par_tags_text2 = [tag2.get_text().strip() for tag2 in par_tags2]\n",
    "print(par_tags_text1)\n",
    "print(par_tags_text2)"
   ]
  },
  {
   "cell_type": "code",
   "execution_count": 41,
   "metadata": {},
   "outputs": [
    {
     "name": "stdout",
     "output_type": "stream",
     "text": [
      "['Philadelphia has terminated its partnership with Philly Fighting COVID, a group that ran the city’s biggest Covid-19 vaccination site, after discovering it had changed its corporate status from nonprofit to for-profit, abruptly stopping offering testing, and updated the privacy policy on its vaccination sign up website in a way that could allow for the sale of user data.', 'Three weeks ago, the city’s Department of Public Health announced a “unique public/private partnership” with Philly Fighting COVID, according to NBC Philadelphia, and urged residents to pre-register for vaccination on the group’s website.', 'The city and the group together ran a mass vaccination site at the Pennsylvania Convention Center, and the relationship was publicized by national media, including NBC News.', 'On Monday night, however, the department said in a statement that it had decided to end the relationship after learning that PFC had changed “its corporate status” to for-profit and had updated its data policy \"in a way that could allow the organization to sell data collected through PFC\\'s pre-registration site.\"', 'James Garrow, the department’s director of communications, told NBC News on Tuesday that the group had actually changed its status to for-profit in December but only told the city it was considering such a change in passing during a January conversation.', 'Garrow said the group also had a contract with the city for Covid-19 testing through Jan. 31, but had unexpectedly suspended testing.', 'PFC updated its data policy on its website Monday. The new policy says it will not sell users’ personal data. It does say, however, that it “may share Your information with Our business partners to offer You certain products, services or promotions.”', \"PFC founder Andrei Doroshin, a 22-year-old Drexel University graduate student, did not immediately respond to a request for comment from NBC News or NBC Philadelphia, but reportedly told Philly Magazine on Monday that the privacy policy that appeared on his organization's vaccination page was the policy for the company that runs the database, not for PFC. Doroshin also said he had personally informed the health department of change in corporate status, which was done to make it easier to fundraise and operate clinics.\", 'PFC administered 6,757 vaccine doses for the city, according to the department of public health.', 'The city will now schedule new vaccination clinics so people who received their first doses from PFC at the convention center can receive their second doses elsewhere.', 'Brenda Breslauer is a producer with the NBC News Investigative Unit.']\n",
      "['A Florida man who was named 2020 paramedic of the year admitted to investigators that he played a role in the alleged theft of coronavirus vaccine doses, the Polk County Sheriff said on Tuesday.', \"Joshua Colon, 21, was arrested on Monday and faces forgery, fraud and misconduct charges after he admitted to forging paperwork to cover up what he said was a supervisor's theft of three pre-filled syringes of the Moderna Covid-19 vaccine.\", 'In a press conference, Polk County Sheriff Grady Judd said that authorities noticed there were \"discrepancies\" and \"total confusion\" on three different vaccine forms filled out by Colon, who had been given three full vials of the vaccine on Jan. 6 to administer to Polk County first responders.', 'Authorities contacted several of the names of vaccine recipients on the forms and found that they were former firefighters who said they had never received any doses.', 'Judd said that the 2020 Paramedic of the Year later \"confessed\" and began to cooperate with investigators, admitting to using false names for \"fraudulent\" and \"wrong\" reasons.', 'Colon said he did so at the behest of his supervisor, Polk County Fire Rescue Captain Anthony Damiano.', 'Colon told investigators that Damiano joked about wanting a vaccine for his mother and later threatened him when Colon would not give him the vaccine.', 'Damiano ordered Colon to take a break, after which three pre-filled syringes disappeared from a sealed bag in a refrigerator.', '\"Colon advised he did not question his supervisor in reference to the missing vaccines, however, he immediately became suspicious,\" a statement from the Polk County Sheriff\\'s Office said. \"Colon did not report this incident to anyone within Polk County Fire Rescue.\"', 'However, when asked to produce paperwork, Colon then forged the documents and said he had given doses to people who never received them.', '\"The investigation is ongoing, including what role the supervisor has in the theft of the vaccines and the creation of fraudulent and forged medical records,\" the Polk County Sheriff said in the statement.', 'Reached by telephone Tuesday afternoon, a spokesperson for the Polk County Sheriff said that charges against Damiano are \"imminent\" and that he is at large.', '\"The bottom line is Joshua tried to cover for the captain, Joshua set up the circumstance for the vaccines to have been stolen. Had Joshua simply gone to his boss right then he\\'d have been the hero, but instead he started falsifying paperwork making up people who didn\\'t exist to cover it up,\" Judd said at the Tuesday press conference.', 'Colon resigned on Friday and was arrested on Monday.', 'In a statement, David Carmichael, an attorney for Colon, said he faced a \"very difficult situation\" after his supervisor allegedly demanded he provide the vaccines.', '\"Mr. Colon deeply regrets his weakness in failing to alert the Chain of Command to the theft of the vaccine, accepts responsibility for his error in covering up the theft, and in an effort to protect the reputation of his agency, has resigned his position,\" Carmichael said.', 'Tim Fitzsimons is a reporter for NBC News.']\n"
     ]
    }
   ],
   "source": [
    "# taking out any new lines and anything that does not contain a period\n",
    "sentence_list = [sentence for sentence in par_tags_text1 if not '\\n' in sentence] \n",
    "sentence_list = [sentence for sentence in sentence_list if '.' in sentence]\n",
    "sentence_list1 = [sentence1 for sentence1 in par_tags_text2 if not '\\n' in sentence1] \n",
    "sentence_list1 = [sentence1 for sentence1 in sentence_list1 if '.' in sentence1]\n",
    "print (sentence_list)\n",
    "print (sentence_list1)"
   ]
  },
  {
   "cell_type": "raw",
   "metadata": {},
   "source": []
  },
  {
   "cell_type": "code",
   "execution_count": 42,
   "metadata": {},
   "outputs": [
    {
     "name": "stdout",
     "output_type": "stream",
     "text": [
      "Philadelphia has terminated its partnership with Philly Fighting COVID, a group that ran the city’s biggest Covid-19 vaccination site, after discovering it had changed its corporate status from nonprofit to for-profit, abruptly stopping offering testing, and updated the privacy policy on its vaccination sign up website in a way that could allow for the sale of user data. Three weeks ago, the city’s Department of Public Health announced a “unique public/private partnership” with Philly Fighting COVID, according to NBC Philadelphia, and urged residents to pre-register for vaccination on the group’s website. The city and the group together ran a mass vaccination site at the Pennsylvania Convention Center, and the relationship was publicized by national media, including NBC News. On Monday night, however, the department said in a statement that it had decided to end the relationship after learning that PFC had changed “its corporate status” to for-profit and had updated its data policy \"in a way that could allow the organization to sell data collected through PFC's pre-registration site.\" James Garrow, the department’s director of communications, told NBC News on Tuesday that the group had actually changed its status to for-profit in December but only told the city it was considering such a change in passing during a January conversation. Garrow said the group also had a contract with the city for Covid-19 testing through Jan. 31, but had unexpectedly suspended testing. PFC updated its data policy on its website Monday. The new policy says it will not sell users’ personal data. It does say, however, that it “may share Your information with Our business partners to offer You certain products, services or promotions.” PFC founder Andrei Doroshin, a 22-year-old Drexel University graduate student, did not immediately respond to a request for comment from NBC News or NBC Philadelphia, but reportedly told Philly Magazine on Monday that the privacy policy that appeared on his organization's vaccination page was the policy for the company that runs the database, not for PFC. Doroshin also said he had personally informed the health department of change in corporate status, which was done to make it easier to fundraise and operate clinics. PFC administered 6,757 vaccine doses for the city, according to the department of public health. The city will now schedule new vaccination clinics so people who received their first doses from PFC at the convention center can receive their second doses elsewhere. Brenda Breslauer is a producer with the NBC News Investigative Unit.\n",
      "A Florida man who was named 2020 paramedic of the year admitted to investigators that he played a role in the alleged theft of coronavirus vaccine doses, the Polk County Sheriff said on Tuesday. Joshua Colon, 21, was arrested on Monday and faces forgery, fraud and misconduct charges after he admitted to forging paperwork to cover up what he said was a supervisor's theft of three pre-filled syringes of the Moderna Covid-19 vaccine. In a press conference, Polk County Sheriff Grady Judd said that authorities noticed there were \"discrepancies\" and \"total confusion\" on three different vaccine forms filled out by Colon, who had been given three full vials of the vaccine on Jan. 6 to administer to Polk County first responders. Authorities contacted several of the names of vaccine recipients on the forms and found that they were former firefighters who said they had never received any doses. Judd said that the 2020 Paramedic of the Year later \"confessed\" and began to cooperate with investigators, admitting to using false names for \"fraudulent\" and \"wrong\" reasons. Colon said he did so at the behest of his supervisor, Polk County Fire Rescue Captain Anthony Damiano. Colon told investigators that Damiano joked about wanting a vaccine for his mother and later threatened him when Colon would not give him the vaccine. Damiano ordered Colon to take a break, after which three pre-filled syringes disappeared from a sealed bag in a refrigerator. \"Colon advised he did not question his supervisor in reference to the missing vaccines, however, he immediately became suspicious,\" a statement from the Polk County Sheriff's Office said. \"Colon did not report this incident to anyone within Polk County Fire Rescue.\" However, when asked to produce paperwork, Colon then forged the documents and said he had given doses to people who never received them. \"The investigation is ongoing, including what role the supervisor has in the theft of the vaccines and the creation of fraudulent and forged medical records,\" the Polk County Sheriff said in the statement. Reached by telephone Tuesday afternoon, a spokesperson for the Polk County Sheriff said that charges against Damiano are \"imminent\" and that he is at large. \"The bottom line is Joshua tried to cover for the captain, Joshua set up the circumstance for the vaccines to have been stolen. Had Joshua simply gone to his boss right then he'd have been the hero, but instead he started falsifying paperwork making up people who didn't exist to cover it up,\" Judd said at the Tuesday press conference. Colon resigned on Friday and was arrested on Monday. In a statement, David Carmichael, an attorney for Colon, said he faced a \"very difficult situation\" after his supervisor allegedly demanded he provide the vaccines. \"Mr. Colon deeply regrets his weakness in failing to alert the Chain of Command to the theft of the vaccine, accepts responsibility for his error in covering up the theft, and in an effort to protect the reputation of his agency, has resigned his position,\" Carmichael said. Tim Fitzsimons is a reporter for NBC News.\n"
     ]
    }
   ],
   "source": [
    "#combine list items to string\n",
    "article1 = ' '.join(sentence_list)\n",
    "article2 = ' '.join(sentence_list1)\n",
    "print(article1)\n",
    "print(article2)"
   ]
  },
  {
   "cell_type": "code",
   "execution_count": 43,
   "metadata": {},
   "outputs": [],
   "source": [
    "#summarize function from gensim\n",
    "summary1 = summarize(article1, ratio=0.3)\n",
    "summary2 = summarize(article2, ratio=0.3)"
   ]
  },
  {
   "cell_type": "code",
   "execution_count": 44,
   "metadata": {},
   "outputs": [
    {
     "name": "stdout",
     "output_type": "stream",
     "text": [
      "Length of original article: 2599\n",
      "Length of summary: 1182\n",
      "\n",
      "Headline: Philadelphia ends contract with vaccination provider over for-profit status change\n",
      "\n",
      "Article summary: \n",
      " Philadelphia has terminated its partnership with Philly Fighting COVID, a group that ran the city’s biggest Covid-19 vaccination site, after discovering it had changed its corporate status from nonprofit to for-profit, abruptly stopping offering testing, and updated the privacy policy on its vaccination sign up website in a way that could allow for the sale of user data.\n",
      "Three weeks ago, the city’s Department of Public Health announced a “unique public/private partnership” with Philly Fighting COVID, according to NBC Philadelphia, and urged residents to pre-register for vaccination on the group’s website.\n",
      "On Monday night, however, the department said in a statement that it had decided to end the relationship after learning that PFC had changed “its corporate status” to for-profit and had updated its data policy \"in a way that could allow the organization to sell data collected through PFC's pre-registration site.\" James Garrow, the department’s director of communications, told NBC News on Tuesday that the group had actually changed its status to for-profit in December but only told the city it was considering such a change in passing during a January conversation.\n",
      "\n",
      "Length of original article: 3092\n",
      "Length of summary: 1151\n",
      "\n",
      "Headline: 'Paramedic of the Year' in Florida arrested for role in theft of Covid-19 vaccines\n",
      "\n",
      "Article summary: \n",
      " A Florida man who was named 2020 paramedic of the year admitted to investigators that he played a role in the alleged theft of coronavirus vaccine doses, the Polk County Sheriff said on Tuesday.\n",
      "Joshua Colon, 21, was arrested on Monday and faces forgery, fraud and misconduct charges after he admitted to forging paperwork to cover up what he said was a supervisor's theft of three pre-filled syringes of the Moderna Covid-19 vaccine.\n",
      "In a press conference, Polk County Sheriff Grady Judd said that authorities noticed there were \"discrepancies\" and \"total confusion\" on three different vaccine forms filled out by Colon, who had been given three full vials of the vaccine on Jan. 6 to administer to Polk County first responders.\n",
      "\"Colon did not report this incident to anyone within Polk County Fire Rescue.\" However, when asked to produce paperwork, Colon then forged the documents and said he had given doses to people who never received them.\n",
      "\"The investigation is ongoing, including what role the supervisor has in the theft of the vaccines and the creation of fraudulent and forged medical records,\" the Polk County Sheriff said in the statement.\n"
     ]
    }
   ],
   "source": [
    "#summarized article1\n",
    "print(f'Length of original article: {len(article1)}')\n",
    "print(f'Length of summary: {len(summary1)}\\n')\n",
    "print(f'Headline: {headline1}\\n')\n",
    "print(f'Article summary: \\n {summary1}')\n",
    "#summerized article2\n",
    "print(f'\\nLength of original article: {len(article2)}')\n",
    "print(f'Length of summary: {len(summary2)}\\n')\n",
    "print(f'Headline: {headline2}\\n')\n",
    "print(f'Article summary: \\n {summary2}')"
   ]
  }
 ],
 "metadata": {
  "kernelspec": {
   "display_name": "practice_venv",
   "language": "python",
   "name": "practice_venv"
  },
  "language_info": {
   "codemirror_mode": {
    "name": "ipython",
    "version": 3
   },
   "file_extension": ".py",
   "mimetype": "text/x-python",
   "name": "python",
   "nbconvert_exporter": "python",
   "pygments_lexer": "ipython3",
   "version": "3.7.9"
  }
 },
 "nbformat": 4,
 "nbformat_minor": 4
}
